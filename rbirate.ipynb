{
 "cells": [
  {
   "cell_type": "code",
   "execution_count": 8,
   "metadata": {},
   "outputs": [
    {
     "name": "stdout",
     "output_type": "stream",
     "text": [
      "1 row inserted\n"
     ]
    }
   ],
   "source": [
    "from selenium import webdriver\n",
    "browser = webdriver.Chrome()\n",
    "browser.get('https://rbi.org.in/scripts/BS_DisplayReferenceRate.aspx')\n",
    "date=browser.find_element_by_css_selector('#doublescroll > table.tablebg > tbody > tr:nth-child(4) > td > table > tbody > tr > td > table > tbody > tr:nth-child(2) > td:nth-child(2)')\n",
    "date=date.text\n",
    "eur=browser.find_element_by_css_selector('#doublescroll > table.tablebg > tbody > tr:nth-child(4) > td > table > tbody > tr > td > table > tbody > tr:nth-child(3) > td:nth-child(3)')\n",
    "eur=eur.text\n",
    "gbp=browser.find_element_by_css_selector('#doublescroll > table.tablebg > tbody > tr:nth-child(4) > td > table > tbody > tr > td > table > tbody > tr:nth-child(4) > td:nth-child(3)')\n",
    "gbp=gbp.text\n",
    "yen=browser.find_element_by_css_selector('#doublescroll > table.tablebg > tbody > tr:nth-child(4) > td > table > tbody > tr > td > table > tbody > tr:nth-child(5) > td:nth-child(3)')\n",
    "yen=yen.text\n",
    "browser.quit()\n",
    "\n",
    "import pyodbc\n",
    "con=pyodbc.connect(\"Driver={SQL Server};server=GANAPATHY_LAP;database=python_test;\")\n",
    "cur=con.cursor()\n",
    "cur.execute(\"INSERT INTO rbirate values('%s',%s,%s,%s)\"%(date,eur,gbp,yen))\n",
    "con.commit()\n",
    "print(\"1 row inserted\")\n",
    "cur.close()\n",
    "con.close()"
   ]
  },
  {
   "cell_type": "code",
   "execution_count": null,
   "metadata": {},
   "outputs": [],
   "source": []
  }
 ],
 "metadata": {
  "kernelspec": {
   "display_name": "Python 3",
   "language": "python",
   "name": "python3"
  },
  "language_info": {
   "codemirror_mode": {
    "name": "ipython",
    "version": 3
   },
   "file_extension": ".py",
   "mimetype": "text/x-python",
   "name": "python",
   "nbconvert_exporter": "python",
   "pygments_lexer": "ipython3",
   "version": "3.6.5"
  }
 },
 "nbformat": 4,
 "nbformat_minor": 2
}
